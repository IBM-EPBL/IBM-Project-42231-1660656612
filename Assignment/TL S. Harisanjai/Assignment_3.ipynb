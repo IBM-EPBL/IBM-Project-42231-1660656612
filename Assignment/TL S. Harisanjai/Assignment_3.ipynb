{
  "cells": [
    {
      "cell_type": "markdown",
      "metadata": {
        "id": "EK1akF6E-y12"
      },
      "source": []
    },
    {
      "cell_type": "code",
      "execution_count": 25,
      "metadata": {
        "id": "111AQkVYezDy"
      },
      "outputs": [],
      "source": [
        "from tensorflow.keras.models import Sequential\n",
        "from tensorflow.keras.layers import Dense"
      ]
    },
    {
      "cell_type": "code",
      "execution_count": null,
      "metadata": {
        "id": "IiTunKk8fLDH"
      },
      "outputs": [],
      "source": [
        "from tensorflow.keras.layers import Convolution2D\n",
        "from tensorflow.keras.layers import MaxPooling2D\n",
        "from tensorflow.keras.layers import Flatten\n",
        "from zipfile import ZipFile"
      ]
    },
    {
      "cell_type": "code",
      "execution_count": null,
      "metadata": {
        "id": "tp0ZV4Hkfeip"
      },
      "outputs": [],
      "source": [
        "from tensorflow.keras.preprocessing.image import ImageDataGenerator"
      ]
    },
    {
      "cell_type": "code",
      "execution_count": null,
      "metadata": {
        "id": "RG1c0PRZ_Zmr"
      },
      "outputs": [],
      "source": [
        "from tensorflow.keras.datasets import mnist"
      ]
    },
    {
      "cell_type": "code",
      "execution_count": null,
      "metadata": {
        "colab": {
          "base_uri": "https://localhost:8080/"
        },
        "id": "SJ1kjraYfqzf",
        "outputId": "d922cae7-9ec8-435d-e48e-3e4d00db6191"
      },
      "outputs": [
        {
          "name": "stdout",
          "output_type": "stream",
          "text": [
            "Mounted at /content/drive/\n"
          ]
        }
      ],
      "source": [
        "from google.colab import drive\n",
        "drive.mount('/content/drive/')"
      ]
    },
    {
      "cell_type": "code",
      "execution_count": null,
      "metadata": {
        "id": "Poy61SnSgVa8"
      },
      "outputs": [],
      "source": [
        "from tensorflow.keras.preprocessing.image import ImageDataGenerator"
      ]
    },
    {
      "cell_type": "code",
      "execution_count": null,
      "metadata": {
        "id": "a7GMIYeIJifo"
      },
      "outputs": [],
      "source": [
        "train_datagen=ImageDataGenerator(rescale=1./255,horizontal_flip=True,vertical_flip=True,zoom_range=0.2)"
      ]
    },
    {
      "cell_type": "code",
      "execution_count": null,
      "metadata": {
        "id": "oWyX3_vi2v4O"
      },
      "outputs": [],
      "source": [
        "test_datagen=ImageDataGenerator(rescale=1./255)"
      ]
    },
    {
      "cell_type": "code",
      "execution_count": null,
      "metadata": {
        "id": "cfCO2LDJ-xmQ"
      },
      "outputs": [],
      "source": [
        "from tensorflow.keras.models import Sequential"
      ]
    },
    {
      "cell_type": "code",
      "execution_count": null,
      "metadata": {
        "id": "G43XVoC1Jlml"
      },
      "outputs": [],
      "source": [
        "from tensorflow.keras.layers import Convolution2D,MaxPooling2D,Flatten,Dense"
      ]
    },
    {
      "cell_type": "code",
      "execution_count": null,
      "metadata": {
        "colab": {
          "base_uri": "https://localhost:8080/"
        },
        "id": "jgFJ2p7l20lH",
        "outputId": "c63ed277-a0be-48ed-e13f-69aed7f452bb"
      },
      "outputs": [
        {
          "name": "stdout",
          "output_type": "stream",
          "text": [
            "Found 4317 images belonging to 1 classes.\n"
          ]
        }
      ],
      "source": [
        "x_train=train_datagen.flow_from_directory(r\"/content/drive/MyDrive/flowers\",target_size=(64,64),\n",
        "                                                            class_mode=\"categorical\",batch_size=24)"
      ]
    },
    {
      "cell_type": "code",
      "execution_count": null,
      "metadata": {
        "colab": {
          "base_uri": "https://localhost:8080/"
        },
        "id": "6JLNryRQ4And",
        "outputId": "f48dc8ee-5c17-48b9-da0c-5675ba904d0d"
      },
      "outputs": [
        {
          "name": "stdout",
          "output_type": "stream",
          "text": [
            "Found 4317 images belonging to 1 classes.\n"
          ]
        }
      ],
      "source": [
        "x_test=test_datagen.flow_from_directory(r\"/content/drive/MyDrive/flowers\",target_size=(64,64),\n",
        "                                                            class_mode=\"categorical\",batch_size=24)"
      ]
    },
    {
      "cell_type": "markdown",
      "metadata": {
        "id": "gwUkODlq4xFQ"
      },
      "source": [
        "CREATE MODEL"
      ]
    },
    {
      "cell_type": "code",
      "execution_count": null,
      "metadata": {
        "id": "Cns50Gg0reQL"
      },
      "outputs": [],
      "source": [
        "model=Sequential()"
      ]
    },
    {
      "cell_type": "markdown",
      "metadata": {
        "id": "c3-kYr-C4035"
      },
      "source": [
        "Add Layers (Convolution,MaxPooling,Flatten,Dense-(Hidden\n",
        "Layers),Output)\n"
      ]
    },
    {
      "cell_type": "code",
      "execution_count": null,
      "metadata": {
        "id": "UCetHd4c90AM"
      },
      "outputs": [],
      "source": [
        "model.add(Convolution2D(32,(3,3),activation=\"relu\",input_shape=(64,64,3)))"
      ]
    },
    {
      "cell_type": "code",
      "execution_count": null,
      "metadata": {
        "id": "c3kcAe6bAZil"
      },
      "outputs": [],
      "source": [
        "model.add(MaxPooling2D(pool_size=(2,2)))"
      ]
    },
    {
      "cell_type": "code",
      "execution_count": null,
      "metadata": {
        "id": "jWDEyNi6F8LA"
      },
      "outputs": [],
      "source": [
        "model.add(Flatten())"
      ]
    },
    {
      "cell_type": "code",
      "execution_count": null,
      "metadata": {
        "id": "lQqpv_YsGWuz"
      },
      "outputs": [],
      "source": [
        "model.add(Dense(300,activation='relu'))"
      ]
    },
    {
      "cell_type": "code",
      "execution_count": null,
      "metadata": {
        "id": "oHA8Gg8I3Y39"
      },
      "outputs": [],
      "source": [
        "model.add(Dense(300,activation='relu'))"
      ]
    },
    {
      "cell_type": "code",
      "execution_count": null,
      "metadata": {
        "id": "aRdcc0PY3c24"
      },
      "outputs": [],
      "source": [
        "model.add(Dense(5,activation=\"softmax\"))"
      ]
    },
    {
      "cell_type": "markdown",
      "metadata": {
        "id": "_WIZwFNR4mF9"
      },
      "source": [
        "Compile The Model\n"
      ]
    },
    {
      "cell_type": "code",
      "execution_count": null,
      "metadata": {
        "id": "K7VP2zPF3nAb"
      },
      "outputs": [],
      "source": [
        "model.compile(loss=\"categorical_crossentropy\",metrics=[\"accuracy\"],optimizer='adam')"
      ]
    },
    {
      "cell_type": "code",
      "execution_count": null,
      "metadata": {
        "colab": {
          "base_uri": "https://localhost:8080/"
        },
        "id": "N76SyA_Z3qN1",
        "outputId": "87f35fc9-4abd-4fb3-9c16-4e4f5a0ed7c7"
      },
      "outputs": [
        {
          "data": {
            "text/plain": [
              "180"
            ]
          },
          "execution_count": 21,
          "metadata": {},
          "output_type": "execute_result"
        }
      ],
      "source": [
        "len(x_train)"
      ]
    },
    {
      "cell_type": "markdown",
      "metadata": {
        "id": "gHEwcY_o4bJ3"
      },
      "source": [
        "Fit the model"
      ]
    },
    {
      "cell_type": "code",
      "execution_count": null,
      "metadata": {
        "colab": {
          "background_save": true,
          "base_uri": "https://localhost:8080/"
        },
        "id": "n2tMDtHD3urZ",
        "outputId": "96e64128-a92c-42f8-9261-ce052841289c"
      },
      "outputs": [
        {
          "name": "stdout",
          "output_type": "stream",
          "text": [
            "Epoch 1/4\n",
            "180/180 [==============================] - 498s 3s/step - loss: 316570.0312 - accuracy: 0.2004 - val_loss: 1397082.6250 - val_accuracy: 0.0000e+00\n",
            "Epoch 2/4\n",
            "180/180 [==============================] - 73s 405ms/step - loss: 3690452.0000 - accuracy: 0.2001 - val_loss: 8654508.0000 - val_accuracy: 0.0000e+00\n",
            "Epoch 3/4\n",
            "180/180 [==============================] - 73s 406ms/step - loss: 14987809.0000 - accuracy: 0.2001 - val_loss: 24152592.0000 - val_accuracy: 0.0000e+00\n",
            "Epoch 4/4\n",
            "180/180 [==============================] - 74s 410ms/step - loss: 40855280.0000 - accuracy: 0.2001 - val_loss: 83296864.0000 - val_accuracy: 0.0000e+00\n"
          ]
        },
        {
          "data": {
            "text/plain": [
              "<keras.callbacks.History at 0x7f1169398d90>"
            ]
          },
          "execution_count": 24,
          "metadata": {},
          "output_type": "execute_result"
        }
      ],
      "source": [
        "model.fit(x_train,epochs=4,validation_data=x_test,steps_per_epoch=len(x_train),validation_steps=len(x_test))"
      ]
    },
    {
      "cell_type": "markdown",
      "metadata": {
        "id": "-HZXWlfp5ss7"
      },
      "source": [
        "SAVE THE MODEL"
      ]
    },
    {
      "cell_type": "code",
      "execution_count": 26,
      "metadata": {
        "id": "oGTCD-Yw5m4t"
      },
      "outputs": [],
      "source": [
        "model.save(\"flower1.h5\")"
      ]
    },
    {
      "cell_type": "markdown",
      "metadata": {
        "id": "ZZ0vq4da5wku"
      },
      "source": [
        "TEST THE MODEL"
      ]
    },
    {
      "cell_type": "code",
      "execution_count": 27,
      "metadata": {
        "id": "EzJCXThc52Dd"
      },
      "outputs": [],
      "source": [
        "from tensorflow.keras.models import load_model\n",
        "from tensorflow.keras.preprocessing import image \n",
        "import numpy as np"
      ]
    },
    {
      "cell_type": "code",
      "execution_count": 28,
      "metadata": {
        "id": "UA35uRKM57mD"
      },
      "outputs": [],
      "source": [
        "img=image.load_img(\"/content/drive/My Drive/flowers/flowers/dandelion/8475758_4c861ab268_m.jpg\",target_size=(64,64))"
      ]
    },
    {
      "cell_type": "code",
      "execution_count": 29,
      "metadata": {
        "colab": {
          "base_uri": "https://localhost:8080/",
          "height": 81
        },
        "id": "dzy-z79VtbV0",
        "outputId": "13370587-df7e-4b87-93cf-85a6d8b54e68"
      },
      "outputs": [
        {
          "output_type": "execute_result",
          "data": {
            "text/plain": [
              "<PIL.Image.Image image mode=RGB size=64x64 at 0x7F11692A0C10>"
            ],
            "image/png": "[encoded data removed]"
          },
          "metadata": {},
          "execution_count": 29
        }
      ],
      "source": [
        "img"
      ]
    },
    {
      "cell_type": "code",
      "execution_count": 30,
      "metadata": {
        "id": "9pk2_35jtxJn"
      },
      "outputs": [],
      "source": [
        "x=image.img_to_array(img)"
      ]
    },
    {
      "cell_type": "code",
      "execution_count": 31,
      "metadata": {
        "colab": {
          "base_uri": "https://localhost:8080/"
        },
        "id": "gLBxk3GVtyzm",
        "outputId": "162f26ba-7319-49ae-e07e-39b378c2916f"
      },
      "outputs": [
        {
          "output_type": "execute_result",
          "data": {
            "text/plain": [
              "array([[[ 35.,  67., 178.],\n",
              "        [ 35.,  67., 178.],\n",
              "        [ 36.,  66., 178.],\n",
              "        ...,\n",
              "        [ 30.,  63., 178.],\n",
              "        [ 31.,  64., 179.],\n",
              "        [ 30.,  63., 178.]],\n",
              "\n",
              "       [[ 37.,  71., 179.],\n",
              "        [ 35.,  72., 179.],\n",
              "        [ 35.,  72., 179.],\n",
              "        ...,\n",
              "        [ 32.,  65., 178.],\n",
              "        [ 31.,  64., 177.],\n",
              "        [ 33.,  67., 177.]],\n",
              "\n",
              "       [[ 41.,  76., 180.],\n",
              "        [ 38.,  77., 182.],\n",
              "        [ 41.,  75., 183.],\n",
              "        ...,\n",
              "        [ 36.,  69., 182.],\n",
              "        [ 37.,  68., 184.],\n",
              "        [ 37.,  69., 180.]],\n",
              "\n",
              "       ...,\n",
              "\n",
              "       [[ 63.,  48.,  27.],\n",
              "        [ 69.,  48.,  31.],\n",
              "        [ 69.,  50.,  35.],\n",
              "        ...,\n",
              "        [194., 189.,  69.],\n",
              "        [184., 168.,  33.],\n",
              "        [190., 179.,  35.]],\n",
              "\n",
              "       [[ 83.,  59.,  49.],\n",
              "        [ 72.,  57.,  36.],\n",
              "        [ 81.,  55.,  32.],\n",
              "        ...,\n",
              "        [104., 102.,   2.],\n",
              "        [134., 132.,  32.],\n",
              "        [132., 122.,   0.]],\n",
              "\n",
              "       [[ 20.,   5.,  10.],\n",
              "        [ 64.,  35.,  27.],\n",
              "        [ 49.,  26.,  18.],\n",
              "        ...,\n",
              "        [102., 102.,  40.],\n",
              "        [117., 128.,  50.],\n",
              "        [159., 145.,  22.]]], dtype=float32)"
            ]
          },
          "metadata": {},
          "execution_count": 31
        }
      ],
      "source": [
        "x"
      ]
    },
    {
      "cell_type": "code",
      "execution_count": 32,
      "metadata": {
        "colab": {
          "base_uri": "https://localhost:8080/"
        },
        "id": "MhGD0Tobt4Lr",
        "outputId": "e3d764fc-ad26-488a-973b-8af2c60c587f"
      },
      "outputs": [
        {
          "output_type": "execute_result",
          "data": {
            "text/plain": [
              "3"
            ]
          },
          "metadata": {},
          "execution_count": 32
        }
      ],
      "source": [
        "x.ndim"
      ]
    },
    {
      "cell_type": "code",
      "execution_count": 33,
      "metadata": {
        "id": "aMoWem8OuAkv"
      },
      "outputs": [],
      "source": [
        "x=np.expand_dims(x,axis=0)"
      ]
    },
    {
      "cell_type": "code",
      "execution_count": 34,
      "metadata": {
        "colab": {
          "base_uri": "https://localhost:8080/"
        },
        "id": "vfG6u2bPUF0V",
        "outputId": "3b7b1a0b-5f2b-4eb8-ccc9-9a58b9ec3054"
      },
      "outputs": [
        {
          "output_type": "execute_result",
          "data": {
            "text/plain": [
              "4"
            ]
          },
          "metadata": {},
          "execution_count": 34
        }
      ],
      "source": [
        "x.ndim"
      ]
    },
    {
      "cell_type": "code",
      "execution_count": 35,
      "metadata": {
        "colab": {
          "base_uri": "https://localhost:8080/"
        },
        "id": "bOTmWHAKuHSw",
        "outputId": "fec7d1e7-f693-487c-ad20-80be5785be75"
      },
      "outputs": [
        {
          "output_type": "stream",
          "name": "stdout",
          "text": [
            "1/1 [==============================] - 0s 121ms/step\n"
          ]
        }
      ],
      "source": [
        "pred=model.predict(x)"
      ]
    },
    {
      "cell_type": "code",
      "execution_count": 36,
      "metadata": {
        "colab": {
          "base_uri": "https://localhost:8080/"
        },
        "id": "Kcc7Bol_uKMh",
        "outputId": "db687795-9503-440c-9736-d0372c0f9cc7"
      },
      "outputs": [
        {
          "output_type": "execute_result",
          "data": {
            "text/plain": [
              "array([[0., 0., 1., 0., 0.]], dtype=float32)"
            ]
          },
          "metadata": {},
          "execution_count": 36
        }
      ],
      "source": [
        "pred"
      ]
    },
    {
      "cell_type": "code",
      "execution_count": 37,
      "metadata": {
        "id": "iVz1XN-7uP28"
      },
      "outputs": [],
      "source": [
        "labels=[\"daisy\",\"dandelion\",\"rose\",\"sunflower\",\"tulip\"]"
      ]
    },
    {
      "cell_type": "code",
      "execution_count": 38,
      "metadata": {
        "id": "XTMsUPNruTHs"
      },
      "outputs": [],
      "source": [
        "import numpy as np\n",
        "from tensorflow.keras.models import load_model\n",
        "from tensorflow.keras.preprocessing import image"
      ]
    },
    {
      "cell_type": "code",
      "execution_count": 39,
      "metadata": {
        "colab": {
          "base_uri": "https://localhost:8080/",
          "height": 35
        },
        "id": "-p7RTAikuYV6",
        "outputId": "732990f8-8c7c-4889-f073-e237502c4c42"
      },
      "outputs": [
        {
          "output_type": "execute_result",
          "data": {
            "text/plain": [
              "'tulip'"
            ],
            "application/vnd.google.colaboratory.intrinsic+json": {
              "type": "string"
            }
          },
          "metadata": {},
          "execution_count": 39
        }
      ],
      "source": [
        "labels[4]"
      ]
    },
    {
      "cell_type": "code",
      "execution_count": 40,
      "metadata": {
        "id": "2JyoDuCYudxu"
      },
      "outputs": [],
      "source": [
        "\n",
        "\n",
        "model.compile(loss='categorical_crossentropy',optimizer='adam',metrics=['accuracy'])"
      ]
    },
    {
      "cell_type": "code",
      "execution_count": 41,
      "metadata": {
        "colab": {
          "base_uri": "https://localhost:8080/",
          "height": 35
        },
        "id": "DygPyHa5We0i",
        "outputId": "8c40ee1a-7baa-4b69-9067-67dddf12de75"
      },
      "outputs": [
        {
          "output_type": "execute_result",
          "data": {
            "text/plain": [
              "'rose'"
            ],
            "application/vnd.google.colaboratory.intrinsic+json": {
              "type": "string"
            }
          },
          "metadata": {},
          "execution_count": 41
        }
      ],
      "source": [
        "labels[np.argmax(pred)]"
      ]
    }
  ],
  "metadata": {
    "colab": {
      "collapsed_sections": [],
      "provenance": []
    },
    "kernelspec": {
      "display_name": "Python 3",
      "name": "python3"
    },
    "language_info": {
      "name": "python"
    }
  },
  "nbformat": 4,
  "nbformat_minor": 0
}