{
  "nbformat": 4,
  "nbformat_minor": 0,
  "metadata": {
    "colab": {
      "provenance": [],
      "collapsed_sections": []
    },
    "kernelspec": {
      "name": "python3",
      "display_name": "Python 3"
    },
    "language_info": {
      "name": "python"
    }
  },
  "cells": [
    {
      "cell_type": "code",
      "execution_count": null,
      "metadata": {
        "id": "0D3YGm2FtyMU"
      },
      "outputs": [],
      "source": [
        "#importing image data generator library"
      ]
    },
    {
      "cell_type": "code",
      "source": [
        "from keras.preprocessing.image import ImageDataGenerator"
      ],
      "metadata": {
        "id": "6rtriW6Ot_tr"
      },
      "execution_count": null,
      "outputs": []
    },
    {
      "cell_type": "markdown",
      "source": [
        "Image Data Augmentation"
      ],
      "metadata": {
        "id": "4ItcV4nDvjFG"
      }
    },
    {
      "cell_type": "code",
      "source": [
        "#Configuring image Data Generator Class\n",
        "\n",
        "#Setting Parameter for Image Augmentation for training data\n",
        "\n",
        "train_datagen = ImageDataGenerator(rescale = 1./255, shear_range = 0.2, zoom_range = 0.2, horizontal_flip = True)\n",
        "\n",
        "#Image Data Augmentation for testing data\n",
        "\n",
        "test_datagen = ImageDataGenerator(rescale = 1./255)"
      ],
      "metadata": {
        "id": "CZW4EEp5vl5a"
      },
      "execution_count": null,
      "outputs": []
    }
  ]
}