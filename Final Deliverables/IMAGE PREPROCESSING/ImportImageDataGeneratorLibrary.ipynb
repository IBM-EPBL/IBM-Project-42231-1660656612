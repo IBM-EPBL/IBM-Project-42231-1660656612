{
  "nbformat": 4,
  "nbformat_minor": 0,
  "metadata": {
    "colab": {
      "provenance": [],
      "collapsed_sections": []
    },
    "kernelspec": {
      "name": "python3",
      "display_name": "Python 3"
    },
    "language_info": {
      "name": "python"
    }
  },
  "cells": [
    {
      "cell_type": "code",
      "execution_count": 1,
      "metadata": {
        "id": "H_Yfa3QxwWoX"
      },
      "outputs": [],
      "source": [
        "#importing image data generator library"
      ]
    },
    {
      "cell_type": "code",
      "source": [
        "from keras.preprocessing.image import ImageDataGenerator"
      ],
      "metadata": {
        "id": "L8wNBcFEw5-l"
      },
      "execution_count": 2,
      "outputs": []
    }
  ]
}